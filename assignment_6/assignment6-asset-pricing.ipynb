{
 "cells": [
  {
   "cell_type": "markdown",
   "metadata": {},
   "source": [
    "# Assignment \\#6: Asset Pricing\n",
    "\n",
    "**Due:** Friday 29th April 2016 (by 6:00pm)\n",
    "\n",
    "Please submit assignments to: \n",
    "\n",
    "> `econ370nyu@gmail.com` \n",
    "\n",
    "as a Jupyter notebook with your solutions."
   ]
  },
  {
   "cell_type": "code",
   "execution_count": 1,
   "metadata": {
    "collapsed": true
   },
   "outputs": [],
   "source": [
    "%matplotlib inline\n",
    "import numpy as np"
   ]
  },
  {
   "cell_type": "markdown",
   "metadata": {},
   "source": [
    "#### Homework problems"
   ]
  },
  {
   "cell_type": "markdown",
   "metadata": {},
   "source": [
    "** Question \\#1 **\n",
    "\n",
    "Please study the Python function in the following cell.  \n",
    "\n",
    "Please assume that:\n",
    "\n",
    "* $P$ is an $n \\times n$ matrix of nonnegative numbers whose rows sum to 1\n",
    "\n",
    "* $x$ is an $n \\times 1$ vector\n",
    "\n",
    "* $y$ is another $n \\times 1$ vector\n",
    "\n",
    "**a.** Please explain what the following things mean:\n",
    "\n",
    "* $x * y$\n",
    "\n",
    "* $P @ x$\n",
    "\n",
    "* $cov$"
   ]
  },
  {
   "cell_type": "markdown",
   "metadata": {},
   "source": [
    "**[Answer]**\n",
    "\n",
    "**x * y**\n",
    "This is an element-wise multiplication to produce a new $n \\times 1$ vector with elements $x_1*y_1...x_n*y_n$.\n",
    "\n",
    "**P@x**\n",
    "This produces a new $n \\times 1$ vector whose elements are linear combinations of the rows of P (considering each row to be $P_i$) with $x$, thus the new vector, let's call it $z = {P_1z, P_2z, ... P_n,z}$\n",
    "\n",
    "**$cov$**\n",
    "cov is the covariance, which is normally in the form of a positive semi-definite/definite matrix with the variances of the elements of a random vector along the diagonal and the covariances in the off diagonals."
   ]
  },
  {
   "cell_type": "markdown",
   "metadata": {},
   "source": [
    "**b.** Please propose some words in English telling what the function does"
   ]
  },
  {
   "cell_type": "code",
   "execution_count": 2,
   "metadata": {
    "collapsed": false
   },
   "outputs": [],
   "source": [
    "def covd(P,x,y):\n",
    "    \"\"\"\n",
    "    \n",
    "    \"\"\"\n",
    "    Ex = P @ x\n",
    "    Ey = P @ y\n",
    "    Exy = P @ (x*y)\n",
    "    cov = Exy - Ex*Ey\n",
    "    return cov"
   ]
  },
  {
   "cell_type": "markdown",
   "metadata": {},
   "source": [
    "**[Answer]**\n",
    "\n",
    "The function covd first instantiates two variables, $Ex$ and $Ey$, which correspond to a stochastic matrix $P$ multiplying a random vector, $x$ and $y$, respectively. This is the mathematical expectation of these random vectors. $Exy$ is then calculated, which is the mathematical expectation of the product of the two random vectors (broadcasted onto the elements and not the dot product). Then the function returns cov, a $n \\times 1$ vector, which is contains the covariances between the elements of the $x$ and $y$ vectors for a given state. i.e. the $i$th element of cov is the covariance of $x_i$ and $y_i$ in state $i$.}}"
   ]
  },
  {
   "cell_type": "markdown",
   "metadata": {},
   "source": [
    "-------------------------------------------------------------------------------------------------------------------"
   ]
  },
  {
   "cell_type": "markdown",
   "metadata": {
    "collapsed": true
   },
   "source": [
    "** Question \\#2 **\n",
    "\n",
    "In the next cell, we claim to generate a transition matrix 5 state Markov chain"
   ]
  },
  {
   "cell_type": "code",
   "execution_count": 3,
   "metadata": {
    "collapsed": false
   },
   "outputs": [],
   "source": [
    "def create_disaster_probability(diag=0.9, alpha=0.01, n=5):\n",
    "    # Allocate for P\n",
    "    offdiag = (1 - diag - alpha)/(n-2)\n",
    "    P = np.ones((n, n)) * offdiag\n",
    "    \n",
    "    # Add to diag\n",
    "    P = P + np.eye(5)*(diag-offdiag)\n",
    "    \n",
    "    # Update last column\n",
    "    P[:, -1] = alpha\n",
    "    \n",
    "    # Last row\n",
    "    P[-1, :] = np.zeros(n)\n",
    "    P[-1, -1] = 0.5\n",
    "    P[-1, n//2] = 0.5\n",
    "    \n",
    "    return P\n",
    "\n",
    "P = create_disaster_probability(alpha=0.05)"
   ]
  },
  {
   "cell_type": "markdown",
   "metadata": {
    "collapsed": true
   },
   "source": [
    "**Please print out P and verify that it is a legitimate Markov transition matrix**"
   ]
  },
  {
   "cell_type": "markdown",
   "metadata": {},
   "source": [
    "**[Answer]**"
   ]
  },
  {
   "cell_type": "code",
   "execution_count": 7,
   "metadata": {
    "collapsed": false
   },
   "outputs": [
    {
     "data": {
      "text/plain": [
       "array([[ 0.9       ,  0.01666667,  0.01666667,  0.01666667,  0.05      ],\n",
       "       [ 0.01666667,  0.9       ,  0.01666667,  0.01666667,  0.05      ],\n",
       "       [ 0.01666667,  0.01666667,  0.9       ,  0.01666667,  0.05      ],\n",
       "       [ 0.01666667,  0.01666667,  0.01666667,  0.9       ,  0.05      ],\n",
       "       [ 0.        ,  0.        ,  0.5       ,  0.        ,  0.5       ]])"
      ]
     },
     "execution_count": 7,
     "metadata": {},
     "output_type": "execute_result"
    }
   ],
   "source": [
    "P"
   ]
  },
  {
   "cell_type": "code",
   "execution_count": 11,
   "metadata": {
    "collapsed": false
   },
   "outputs": [
    {
     "name": "stdout",
     "output_type": "stream",
     "text": [
      "legitimate\n"
     ]
    }
   ],
   "source": [
    "for row in P:\n",
    "    if np.all(np.linalg.eigvals(P) > 0) != True:\n",
    "        print(\"Not legitimate\")\n",
    "        break\n",
    "print(\"legitimate\")"
   ]
  },
  {
   "cell_type": "markdown",
   "metadata": {},
   "source": [
    "--------------------------------------------------------------------------------------------------------------------"
   ]
  },
  {
   "cell_type": "markdown",
   "metadata": {},
   "source": [
    "**Question \\#3**\n",
    " \n",
    " \n",
    "A friend tells you that the price of an asset satisfies\n",
    "\n",
    "$$ p_t = E_t m_{t+1} E_t (c_{t+1} + p_{t+1}) + cov_t (m_{t+1}, c_{t+1} + p_{t+1}) \\quad (1) $$\n",
    "\n",
    "where $p_t = v_t c_t$, $v_t$ is a function of the Markov state at $t$ and\n",
    " \n",
    "* $E_t x_{t+1}$ is the conditional expectation of $x_{t+1}$\n",
    "*  $m_t$ is a function of the Markov state \n",
    "*  $s_t$ is a function of the Markov state\n",
    "* $P$ matrix is from Question \\#2 \n",
    " \n",
    "Three vectors m, v, and s are given by the successive rows of\n",
    "\n",
    "* $m=[ 0.45351474,  0.4759072 ,  0.5       ,  0.52596976,  2.        ]$,\n",
    "* $v =[ 1.11737826,  1.15554868,  1.19713735,  1.24262496,  2.09856868]$,\n",
    "* $s =[ 1.05 ,  1.025,  1.   ,  0.975,  0.5  ]$\n",
    " \n",
    "Please interpret these three vectors as random variables.  \n",
    "\n",
    "Please verify that equation (1) holds with these values. (You'll have to write Python code to do this.)"
   ]
  },
  {
   "cell_type": "markdown",
   "metadata": {},
   "source": [
    "**[Answer]**\n",
    "\n",
    "$ p_t = E_t m_{t+1} E_t (c_{t+1} + p_{t+1}) + cov_t (m_{t+1}, c_{t+1} + p_{t+1})$\n",
    "\n",
    "Recall $c_{t+1} = \\lambda_{t+1} c_t$ and $p_t = v_t c_t$\n",
    "\n",
    "$v_t c_t = E_t[m_{t+1}] E_t[c_{t+1} + p_{t+1}] + E_t[m_{t+1} \\times (c_{t+1} + p_{t+1})] - E_t[m_{t+1}] E_t[c_{t+1} + p_{t+1}]$\n",
    "\n",
    "$v_t c_t = E_t[m_{t+1}] E_t[\\lambda_{t+1} c_{t} + v_{t+1} \\lambda_{t+1} c_t] + E_t[m_{t+1} \\times (\\lambda_{t+1} c_{t} + v_{t+1} \\lambda_{t+1} c_t)] - E_t[m_{t+1}] E_t[\\lambda_{t+1} c_{t} + v_{t+1} \\lambda_{t+1} c_t]$\n",
    "\n",
    "Cancelling out all of the $c_t$ terms we get:\n",
    "\n",
    "$v_t = E_t[m_{t+1}] E_t[\\lambda_{t+1} + v_{t+1} \\lambda_{t+1}] + E_t[m_{t+1} \\times (\\lambda_{t+1} + v_{t+1} \\lambda_{t+1})] - E_t[m_{t+1}] E_t[\\lambda_{t+1} + v_{t+1} \\lambda_{t+1}]$\n",
    "\n",
    "Simplifying a bit further we get:\n",
    "\n",
    "$v_t = E_t[m_{t+1} \\times (\\lambda_{t+1} + v_{t+1} \\lambda_{t+1})]$\n",
    "\n",
    "Now to put this in a form where we can verify the given data in Python:\n",
    "\n",
    "$v_i = \\Sigma_{j=1}^n P_{ij} m_j (s_j + s_j v_j)$\n",
    "\n",
    "Let $\\hat{P}_{ij} = P_{ij}m_j$ \n",
    "\n",
    "Then: $v=\\hat{P}s + \\hat{P} s v$"
   ]
  },
  {
   "cell_type": "code",
   "execution_count": 77,
   "metadata": {
    "collapsed": false
   },
   "outputs": [
    {
     "data": {
      "text/plain": [
       "array([ 1.11737826,  1.15554868,  1.19713735,  1.24262497,  2.09856868])"
      ]
     },
     "execution_count": 77,
     "metadata": {},
     "output_type": "execute_result"
    }
   ],
   "source": [
    "m_t = np.array([0.45351474,0.4759072,0.5,0.52596976,2.])\n",
    "v_t = np.array([1.11737826,1.15554868,1.19713735,1.24262496,2.09856868])\n",
    "s_t = np.array([1.05,1.025,1.,0.975,0.5])\n",
    "\n",
    "P_hat = P @ m_t \n",
    "\n",
    "#First solution (just turning the expectation into a formula)\n",
    "P@(m_t * (s_t + s_t * v_t))"
   ]
  },
  {
   "cell_type": "markdown",
   "metadata": {
    "collapsed": true
   },
   "source": [
    "-------------------------------------------------------------------------------------------------------------------"
   ]
  },
  {
   "cell_type": "markdown",
   "metadata": {},
   "source": [
    "**Question \\#4**\n",
    "\n",
    "#### Returns\n",
    "\n",
    "Returns are defined as $R_{t+1} = \\frac{v_{t+1} + s_{t+1}}{v_t}$.\n",
    "\n",
    "In our Markov setting, returns can be summarized by an $n \\times n$ matrix whose $i,j$th component\n",
    "is \n",
    "\n",
    "$$ R_{i,j} = \\frac{(v_j s_j + s_j)}{v_i} $$\n",
    "\n",
    "**Part A** Please create the matrix $R$ and verify\n",
    "\n",
    "$$ 1 = E_t m_{t+1} E_t R_{t+1} + cov_t (m_{t+1}, R_{t+1}) $$"
   ]
  },
  {
   "cell_type": "markdown",
   "metadata": {},
   "source": [
    "**[Answer]**"
   ]
  },
  {
   "cell_type": "code",
   "execution_count": 92,
   "metadata": {
    "collapsed": false
   },
   "outputs": [
    {
     "data": {
      "text/plain": [
       "array([[ 1.98969969,  1.9773406 ,  1.96633265,  1.95686583,  1.38653525],\n",
       "       [ 1.92397535,  1.91202451,  1.90138017,  1.89222607,  1.34073481],\n",
       "       [ 1.85713625,  1.84560059,  1.83532604,  1.82648995,  1.29415755],\n",
       "       [ 1.7891538 ,  1.77804041,  1.76814197,  1.75962934,  1.24678353],\n",
       "       [ 1.0594112 ,  1.05283064,  1.04696948,  1.04192889,  0.73825763]])"
      ]
     },
     "execution_count": 92,
     "metadata": {},
     "output_type": "execute_result"
    }
   ],
   "source": [
    "R = np.zeros((len(v_t),len(s_t)))\n",
    "\n",
    "for i, item in enumerate(v_t):\n",
    "    for j, item in enumerate(s_t):\n",
    "        R[i][j] = (v_t[j]*s_t[j] + s_t[j])/v_t[i]\n",
    "\n",
    "R"
   ]
  },
  {
   "cell_type": "markdown",
   "metadata": {},
   "source": [
    "$1 = E_t m_{t+1} E_t R_{t+1} + cov_t (m_{t+1} R_{t+1})$\n",
    "\n",
    "$1 = E_t m_{t+1} E_t R_{t+1} + E_t (m_{t+1} R_{t+1}) - E_t m_{t+1} E_t R_{t+1}$\n",
    "\n",
    "$1 = E_t (m_{t+1} R_{t+1})$"
   ]
  },
  {
   "cell_type": "code",
   "execution_count": 182,
   "metadata": {
    "collapsed": false
   },
   "outputs": [
    {
     "name": "stdout",
     "output_type": "stream",
     "text": [
      "[ 1.          1.0341607   1.07138057  1.1120898   1.87811841]\n",
      "[ 0.96696771  1.          1.03599041  1.07535493  1.81607985]\n",
      "[ 0.93337516  0.96525991  1.          1.03799699  1.75298906]\n",
      "[ 0.89920796  0.92992554  0.96339394  1.00000001  1.68881903]\n",
      "[ 0.53244779  0.55063658  0.57045422  0.59212976  1.        ]\n"
     ]
    }
   ],
   "source": [
    "#Intuitively\n",
    "print(P@(m * R[0]))\n",
    "print(P@(m * R[1]))\n",
    "print(P@(m * R[2]))\n",
    "print(P@(m * R[3]))\n",
    "print(P@(m * R[4]))"
   ]
  },
  {
   "cell_type": "code",
   "execution_count": 183,
   "metadata": {
    "collapsed": false
   },
   "outputs": [
    {
     "data": {
      "text/plain": [
       "array([[ 1.        ,  0.96696771,  0.93337516,  0.89920796,  0.53244779],\n",
       "       [ 1.0341607 ,  1.        ,  0.96525991,  0.92992554,  0.55063658],\n",
       "       [ 1.07138057,  1.03599041,  1.        ,  0.96339394,  0.57045422],\n",
       "       [ 1.1120898 ,  1.07535493,  1.03799699,  1.00000001,  0.59212976],\n",
       "       [ 1.87811841,  1.81607985,  1.75298906,  1.68881903,  1.        ]])"
      ]
     },
     "execution_count": 183,
     "metadata": {},
     "output_type": "execute_result"
    }
   ],
   "source": [
    "#Or more succinctly\n",
    "m_tile = np.tile(m, (5,1))\n",
    "P @ (m_tile * R).T"
   ]
  },
  {
   "cell_type": "markdown",
   "metadata": {},
   "source": [
    "What this means is that the mathematical expectation of the stochastic discount factor at a given Markov state and the vector of returns corresponding to that same Markov state is 1 (hence the 1's down the diagonal)."
   ]
  },
  {
   "cell_type": "markdown",
   "metadata": {},
   "source": [
    "**Part B**\n",
    "\n",
    "#### Possibly helpful or harmful hint\n",
    "\n",
    "The following code is one person's attempt to answer this.\n",
    "Do you think this code is correct?\n",
    "If so can you do better?\n",
    "\n",
    "Please explain"
   ]
  },
  {
   "cell_type": "code",
   "execution_count": 13,
   "metadata": {
    "collapsed": false
   },
   "outputs": [
    {
     "data": {
      "text/plain": [
       "array([[ 1.98969969,  1.9773406 ,  1.96633265,  1.95686583,  1.38653525],\n",
       "       [ 1.92397535,  1.91202451,  1.90138017,  1.89222607,  1.34073481],\n",
       "       [ 1.85713625,  1.84560059,  1.83532604,  1.82648995,  1.29415755],\n",
       "       [ 1.7891538 ,  1.77804041,  1.76814197,  1.75962934,  1.24678353],\n",
       "       [ 1.0594112 ,  1.05283064,  1.04696948,  1.04192889,  0.73825763]])"
      ]
     },
     "execution_count": 13,
     "metadata": {},
     "output_type": "execute_result"
    }
   ],
   "source": [
    "# Here is some code that implements the pseudo code R = (v*s + s)(tomorrow)/v(today)\n",
    "\n",
    "v=np.array([ 1.11737826,  1.15554868,  1.19713735,  1.24262496,  2.09856868])\n",
    "m=np.array([ 0.45351474,  0.4759072 ,  0.5       ,  0.52596976,  2.        ])\n",
    "s=np.array([ 1.05 ,  1.025,  1.   ,  0.975,  0.5  ])\n",
    "\n",
    "R1 = np.array((v*s + s)/v[0])\n",
    "R2 = np.array((v*s + s)/v[1])\n",
    "R3 = np.array((v*s + s)/v[2])\n",
    "R4 = np.array((v*s + s)/v[3])\n",
    "R5 = np.array((v*s + s)/v[4])\n",
    "\n",
    "R = np.vstack([R1,R2,R3,R4,R5])\n",
    "R"
   ]
  },
  {
   "cell_type": "markdown",
   "metadata": {},
   "source": [
    "**[Answer]**\n",
    "\n",
    "I believe this code compiles correctly, but the actual code written is very inefficient. Because there is an iterative process of creating the rows of R dependent on entries of v, this can easily be put into a loop, as I have demonstrated below to more efficiently create the array, R."
   ]
  },
  {
   "cell_type": "code",
   "execution_count": 21,
   "metadata": {
    "collapsed": false
   },
   "outputs": [
    {
     "data": {
      "text/plain": [
       "array([[ 1.98969969,  1.9773406 ,  1.96633265,  1.95686583,  1.38653525],\n",
       "       [ 1.92397535,  1.91202451,  1.90138017,  1.89222607,  1.34073481],\n",
       "       [ 1.85713625,  1.84560059,  1.83532604,  1.82648995,  1.29415755],\n",
       "       [ 1.7891538 ,  1.77804041,  1.76814197,  1.75962934,  1.24678353],\n",
       "       [ 1.0594112 ,  1.05283064,  1.04696948,  1.04192889,  0.73825763]])"
      ]
     },
     "execution_count": 21,
     "metadata": {},
     "output_type": "execute_result"
    }
   ],
   "source": [
    "for entry in v:\n",
    "    try:\n",
    "        np.append(R, (v*s+s)/entry)\n",
    "    except:\n",
    "        R = np.array(([(v*s+s)/entry]))\n",
    "R"
   ]
  },
  {
   "cell_type": "markdown",
   "metadata": {},
   "source": [
    "**Part C**\n",
    "\n",
    "An unnamed student in our class has said that she thinks the following code does\n",
    "the same thing and is \"better\". Do you agree?  Can you please explain how this code works?\n"
   ]
  },
  {
   "cell_type": "code",
   "execution_count": 7,
   "metadata": {
    "collapsed": false
   },
   "outputs": [
    {
     "data": {
      "text/plain": [
       "array([[ 1.98969969,  1.9773406 ,  1.96633265,  1.95686583,  1.38653525],\n",
       "       [ 1.92397535,  1.91202451,  1.90138017,  1.89222607,  1.34073481],\n",
       "       [ 1.85713625,  1.84560059,  1.83532604,  1.82648995,  1.29415755],\n",
       "       [ 1.7891538 ,  1.77804041,  1.76814197,  1.75962934,  1.24678353],\n",
       "       [ 1.0594112 ,  1.05283064,  1.04696948,  1.04192889,  0.73825763]])"
      ]
     },
     "execution_count": 7,
     "metadata": {},
     "output_type": "execute_result"
    }
   ],
   "source": [
    "Rsf = np.reshape(v*s + s, (1, 5)) / np.reshape(v, (5, 1))\n",
    "Rsf"
   ]
  },
  {
   "cell_type": "markdown",
   "metadata": {},
   "source": [
    "**[Answer]**\n",
    "\n",
    "First of all the np.reshape($v*s+s$,(1,5)) is redundant because the operation $v*s+s$ already returns an array object that is of the shape (1,5). I agree that it is 'better' in the sense that it is more concise, but it is not as clear and so for didactic purposes, or even for the purposes of code-readability it suffers. I believe my code is nearly as concise, but is much more readable because the operations themselves are emphasized by the iterative process. \n",
    "\n",
    "Basically the code in Part C performs the operation $v*s+s$, and reshapes it (redundantly) to be of dimension (1,5). Then it performs row-wise division of elements, with perhaps some other things in the background for when the dimensions don't match, i.e. the code block below this answer. This makes things unclear to the reader exactly what is happening, and thus I don't think the code is necessarily better. "
   ]
  },
  {
   "cell_type": "code",
   "execution_count": 35,
   "metadata": {
    "collapsed": false
   },
   "outputs": [
    {
     "name": "stdout",
     "output_type": "stream",
     "text": [
      "[[ 0.5  0. ]\n",
      " [ 1.   0. ]]\n"
     ]
    }
   ],
   "source": [
    "test1 = np.array(([1,0]))\n",
    "test2 = np.reshape(np.array(([2,1])),(2,1))\n",
    "\n",
    "print(test1/test2)"
   ]
  },
  {
   "cell_type": "code",
   "execution_count": 33,
   "metadata": {
    "collapsed": false
   },
   "outputs": [
    {
     "name": "stdout",
     "output_type": "stream",
     "text": [
      "[[ 0.5  0. ]\n",
      " [ 1.   1. ]]\n"
     ]
    }
   ],
   "source": [
    "test1 = np.array(([1,0],[1,1]))\n",
    "test2 = np.reshape(np.array(([2,1])),(2,1))\n",
    "\n",
    "print(test1/test2)"
   ]
  },
  {
   "cell_type": "markdown",
   "metadata": {},
   "source": [
    "-------------------------------------------------------------------------------------------------------------------"
   ]
  },
  {
   "cell_type": "markdown",
   "metadata": {},
   "source": [
    "**Question \\#5**\n",
    "\n",
    "Consider the problem in Question \\#3\n",
    "\n",
    "$$ p_t = E_t m_{t+1} E_t (c_{t+1} + p_{t+1}) + cov_t (m_{t+1}, c_{t+1} + p_{t+1}) \\quad (1) $$\n",
    "\n",
    "where $p_t = v_t c_t$, $v_t$ is a function of the Markov state at $t$ and\n",
    " \n",
    "* $E_t x_{t+1}$ is the conditional expectation of $x_{t+1}$\n",
    "*  $m_t$ is a function of the Markov state \n",
    "*  $s_t$ is a function of the Markov state\n",
    "* $P$ is the same as in Question \\#2\n",
    " \n",
    "\n",
    "Suppose you only know P, m, and s:\n",
    "\n",
    "* $m=[ 0.45351474,  0.4759072 ,  0.5       ,  0.52596976,  2.        ]$,\n",
    "* $s =[ 1.05 ,  1.025,  1.   ,  0.975,  0.5  ]$\n",
    "    \n",
    "How do you compute the vector $v$ to satisfy the asset pricing function? \n",
    "\n",
    "[**Hint:** $v =[ 1.11737826,  1.15554868,  1.19713735,  1.24262496,  2.09856868]$]\n",
    "\n"
   ]
  },
  {
   "cell_type": "markdown",
   "metadata": {
    "collapsed": true
   },
   "source": [
    "**[Answer]**\n",
    "\n",
    "I left off with v in this form.\n",
    "\n",
    "---\n",
    "\n",
    "$v_i = \\Sigma_{j=1}^n P_{ij} m_j (s_j + s_j v_j)$\n",
    "\n",
    "$v = Pms + Pmsv$\n",
    "\n",
    "$v - Pmsv = Pms$\n",
    "\n",
    "$v (I-Pms) = Pms$\n",
    "\n",
    "$v = (I-Pms)^{-1} Pms$\n",
    "\n",
    "---\n",
    "So now we just need to isolate v.\n",
    "\n"
   ]
  },
  {
   "cell_type": "code",
   "execution_count": 135,
   "metadata": {
    "collapsed": false
   },
   "outputs": [
    {
     "data": {
      "text/plain": [
       "array([ 1.11737826,  1.15554869,  1.19713735,  1.24262497,  2.09856868])"
      ]
     },
     "execution_count": 135,
     "metadata": {},
     "output_type": "execute_result"
    }
   ],
   "source": [
    "np.linalg.inv(np.eye(5) - P*(m*s)) @ P@(m*s)"
   ]
  }
 ],
 "metadata": {
  "kernelspec": {
   "display_name": "Python 3",
   "language": "python",
   "name": "python3"
  },
  "language_info": {
   "codemirror_mode": {
    "name": "ipython",
    "version": 3
   },
   "file_extension": ".py",
   "mimetype": "text/x-python",
   "name": "python",
   "nbconvert_exporter": "python",
   "pygments_lexer": "ipython3",
   "version": "3.5.1"
  }
 },
 "nbformat": 4,
 "nbformat_minor": 0
}
